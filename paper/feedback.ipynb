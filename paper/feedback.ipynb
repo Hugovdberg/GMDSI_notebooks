{
 "cells": [
  {
   "cell_type": "code",
   "execution_count": 1,
   "id": "5703f4ff-6396-4fb1-9829-e51a2766dd06",
   "metadata": {
    "vscode": {
     "languageId": "shellscript"
    }
   },
   "outputs": [],
   "source": [
    "import pandas as pd\n",
    "import matplotlib.pyplot as plt\n",
    "from flopy.plot import styles as fps\n",
    "import numpy as np"
   ]
  },
  {
   "cell_type": "code",
   "execution_count": 2,
   "id": "c0e988c1-4a19-4b54-b5b3-e03b7bc66f78",
   "metadata": {
    "vscode": {
     "languageId": "shellscript"
    }
   },
   "outputs": [],
   "source": [
    "df = pd.read_csv('./Feedback on Decision Support Modelling with Python Self-Guided Course (Responses) - Form Responses 1.csv')"
   ]
  },
  {
   "cell_type": "code",
   "execution_count": 3,
   "id": "dbaa4a4f-6ae6-401a-b47c-cb31f08cbbf7",
   "metadata": {
    "vscode": {
     "languageId": "shellscript"
    }
   },
   "outputs": [
    {
     "data": {
      "text/html": [
       "<div>\n",
       "<style scoped>\n",
       "    .dataframe tbody tr th:only-of-type {\n",
       "        vertical-align: middle;\n",
       "    }\n",
       "\n",
       "    .dataframe tbody tr th {\n",
       "        vertical-align: top;\n",
       "    }\n",
       "\n",
       "    .dataframe thead th {\n",
       "        text-align: right;\n",
       "    }\n",
       "</style>\n",
       "<table border=\"1\" class=\"dataframe\">\n",
       "  <thead>\n",
       "    <tr style=\"text-align: right;\">\n",
       "      <th></th>\n",
       "      <th>Timestamp</th>\n",
       "      <th>How much were you able to keep up with the self-study notebooks?</th>\n",
       "      <th>How comfortable were you with PEST++ before this class</th>\n",
       "      <th>How comfortable are you with PEST++ after this class</th>\n",
       "      <th>Please provide feedback that we can use to improve the GMDSI educational experience including the materials and the format and execution of this 5-week experience.</th>\n",
       "    </tr>\n",
       "    <tr>\n",
       "      <th>After this experience, would you prefer:</th>\n",
       "      <th></th>\n",
       "      <th></th>\n",
       "      <th></th>\n",
       "      <th></th>\n",
       "      <th></th>\n",
       "    </tr>\n",
       "  </thead>\n",
       "  <tbody>\n",
       "    <tr>\n",
       "      <th>in-person intensive workshop (one week - ~40 hours)</th>\n",
       "      <td>4</td>\n",
       "      <td>4</td>\n",
       "      <td>4</td>\n",
       "      <td>4</td>\n",
       "      <td>3</td>\n",
       "    </tr>\n",
       "    <tr>\n",
       "      <th>this hybrid self-guided approach with few online meetings (as we have experienced now)</th>\n",
       "      <td>29</td>\n",
       "      <td>29</td>\n",
       "      <td>29</td>\n",
       "      <td>29</td>\n",
       "      <td>20</td>\n",
       "    </tr>\n",
       "  </tbody>\n",
       "</table>\n",
       "</div>"
      ],
      "text/plain": [
       "                                                    Timestamp  \\\n",
       "After this experience, would you prefer:                        \n",
       "in-person intensive workshop (one week - ~40 ho...          4   \n",
       "this hybrid self-guided approach with few onlin...         29   \n",
       "\n",
       "                                                    How much were you able to keep up with the self-study notebooks?  \\\n",
       "After this experience, would you prefer:                                                                               \n",
       "in-person intensive workshop (one week - ~40 ho...                                                  4                  \n",
       "this hybrid self-guided approach with few onlin...                                                 29                  \n",
       "\n",
       "                                                    How comfortable were you with PEST++ before this class  \\\n",
       "After this experience, would you prefer:                                                                     \n",
       "in-person intensive workshop (one week - ~40 ho...                                                  4        \n",
       "this hybrid self-guided approach with few onlin...                                                 29        \n",
       "\n",
       "                                                    How comfortable are you with PEST++ after this class  \\\n",
       "After this experience, would you prefer:                                                                   \n",
       "in-person intensive workshop (one week - ~40 ho...                                                  4      \n",
       "this hybrid self-guided approach with few onlin...                                                 29      \n",
       "\n",
       "                                                    Please provide feedback that we can use to improve the GMDSI educational experience including the materials and the format and execution of this 5-week experience.  \n",
       "After this experience, would you prefer:                                                                                                                                                                                 \n",
       "in-person intensive workshop (one week - ~40 ho...                                                  3                                                                                                                    \n",
       "this hybrid self-guided approach with few onlin...                                                 20                                                                                                                    "
      ]
     },
     "execution_count": 3,
     "metadata": {},
     "output_type": "execute_result"
    }
   ],
   "source": [
    "df.groupby('After this experience, would you prefer:').count()"
   ]
  },
  {
   "cell_type": "code",
   "execution_count": 4,
   "id": "01a90494-ce3f-42ec-a718-0775aa8b736e",
   "metadata": {
    "vscode": {
     "languageId": "shellscript"
    }
   },
   "outputs": [
    {
     "data": {
      "image/png": "[encoded data removed]",
      "text/plain": [
       "<Figure size 640x480 with 1 Axes>"
      ]
     },
     "metadata": {},
     "output_type": "display_data"
    }
   ],
   "source": [
    "with fps.USGSPlot():\n",
    "    df.groupby('How much were you able to keep up with the self-study notebooks?').count().rename(\n",
    "    columns = {'Timestamp':'notebook_completion'}\n",
    "    )['notebook_completion'].plot.pie()"
   ]
  },
  {
   "cell_type": "code",
   "execution_count": 5,
   "id": "2c4ebf09-afa2-4b9e-800c-49a84c62668c",
   "metadata": {
    "vscode": {
     "languageId": "shellscript"
    }
   },
   "outputs": [],
   "source": [
    "inperson = df.groupby('After this experience, would you prefer:').count().rename(\n",
    "    columns = {'Timestamp':'inperson'}\n",
    "    )['inperson']/len(df)*100"
   ]
  },
  {
   "cell_type": "code",
   "execution_count": 6,
   "id": "86de39a1-cc9e-49db-ad0c-366e9bca21d2",
   "metadata": {
    "vscode": {
     "languageId": "shellscript"
    }
   },
   "outputs": [],
   "source": [
    "inperson.index = [\n",
    "    'In-person intensive\\nworkshop\\n(~40 hours)',\n",
    "    'This hybrid self-guided\\napproach with\\nfew online meetings\\n(as experienced now)'\n",
    "]"
   ]
  },
  {
   "cell_type": "code",
   "execution_count": 7,
   "id": "c042f73c-ac28-4d83-93e1-47b386b3c891",
   "metadata": {
    "vscode": {
     "languageId": "shellscript"
    }
   },
   "outputs": [],
   "source": [
    "nbs = df.groupby('How much were you able to keep up with the self-study notebooks?').count().rename(\n",
    "    columns = {'Timestamp':'notebook_completion'}\n",
    "    )['notebook_completion']/len(df)*100"
   ]
  },
  {
   "cell_type": "code",
   "execution_count": 8,
   "id": "69a9087d-5a1a-4cda-88cf-06c7f67c8cd4",
   "metadata": {
    "vscode": {
     "languageId": "shellscript"
    }
   },
   "outputs": [],
   "source": [
    "nbs.index = ['I did a bit\\nbut fell behind', 'I did most\\nof them', 'I did\\nthem all']"
   ]
  },
  {
   "cell_type": "code",
   "execution_count": 9,
   "id": "93aa43bb-6099-4de0-9dac-9cfb61c4123d",
   "metadata": {
    "vscode": {
     "languageId": "shellscript"
    }
   },
   "outputs": [
    {
     "data": {
      "text/plain": [
       "Index(['Timestamp', 'After this experience, would you prefer:',\n",
       "       'How much were you able to keep up with the self-study notebooks?',\n",
       "       'How comfortable were you with PEST++ before this class',\n",
       "       'How comfortable are you with PEST++ after this class',\n",
       "       'Please provide feedback that we can use to improve the GMDSI educational experience including the materials and the format and execution of this 5-week experience.'],\n",
       "      dtype='object')"
      ]
     },
     "execution_count": 9,
     "metadata": {},
     "output_type": "execute_result"
    }
   ],
   "source": [
    "df.columns"
   ]
  },
  {
   "cell_type": "code",
   "execution_count": 10,
   "id": "0540c6fa-4136-4d85-83d1-d9b69ebce124",
   "metadata": {
    "vscode": {
     "languageId": "shellscript"
    }
   },
   "outputs": [],
   "source": [
    "before = df.groupby('How comfortable were you with PEST++ before this class'\n",
    "          ).count()['Timestamp'].values\n",
    "after = np.zeros(5)\n",
    "after[1:-1] = df.groupby('How comfortable are you with PEST++ after this class'\n",
    "          ).count()['Timestamp'].values"
   ]
  },
  {
   "cell_type": "code",
   "execution_count": 11,
   "id": "cd8af304-cbdd-4005-a0e8-d22da34c3edb",
   "metadata": {
    "vscode": {
     "languageId": "shellscript"
    }
   },
   "outputs": [],
   "source": [
    "b4_aft_raw = pd.DataFrame(data={'Comfort Before Class':before,\n",
    "                           'Comfort After Class':after})"
   ]
  },
  {
   "cell_type": "code",
   "execution_count": 12,
   "id": "f17488c0-0f5c-4495-8661-332479880e66",
   "metadata": {
    "vscode": {
     "languageId": "shellscript"
    }
   },
   "outputs": [],
   "source": [
    "before = df.groupby('How comfortable were you with PEST++ before this class'\n",
    "          ).count()['Timestamp'].values/len(df)*100\n",
    "after = np.zeros(5)\n",
    "after[1:-1] = df.groupby('How comfortable are you with PEST++ after this class'\n",
    "          ).count()['Timestamp'].values/len(df)*100"
   ]
  },
  {
   "cell_type": "code",
   "execution_count": 13,
   "id": "c6b4f980-aac9-47ea-aadf-9dce27a1d258",
   "metadata": {
    "vscode": {
     "languageId": "shellscript"
    }
   },
   "outputs": [],
   "source": [
    "b4_aft = pd.DataFrame(data={'Comfort Before Class':before,\n",
    "                           'Comfort After Class':after})\n",
    "b4_aft.index = [i+1 for i in b4_aft.index]"
   ]
  },
  {
   "cell_type": "code",
   "execution_count": 14,
   "id": "72a5a043-3026-4aaa-8dde-458dedfaebb0",
   "metadata": {
    "vscode": {
     "languageId": "shellscript"
    }
   },
   "outputs": [
    {
     "data": {
      "text/plain": [
       "How much were you able to keep up with the self-study notebooks?\n",
       "I did a bit but fell behind    13\n",
       "I did most of them             14\n",
       "I did them all                  6\n",
       "Name: notebook_completion, dtype: int64"
      ]
     },
     "execution_count": 14,
     "metadata": {},
     "output_type": "execute_result"
    }
   ],
   "source": [
    "df.groupby('How much were you able to keep up with the self-study notebooks?').count().rename(\n",
    "    columns = {'Timestamp':'notebook_completion'}\n",
    "    )['notebook_completion']"
   ]
  },
  {
   "cell_type": "code",
   "execution_count": 15,
   "id": "56a71aef-fa44-4296-aa92-76082d986d8b",
   "metadata": {
    "vscode": {
     "languageId": "shellscript"
    }
   },
   "outputs": [
    {
     "data": {
      "text/plain": [
       "Comfort Before Class    100.0\n",
       "Comfort After Class     100.0\n",
       "dtype: float64"
      ]
     },
     "execution_count": 15,
     "metadata": {},
     "output_type": "execute_result"
    }
   ],
   "source": [
    "b4_aft.sum()"
   ]
  },
  {
   "cell_type": "code",
   "execution_count": 16,
   "id": "c39c0e72-2813-4657-902a-7eb4b79944e4",
   "metadata": {
    "vscode": {
     "languageId": "shellscript"
    }
   },
   "outputs": [
    {
     "data": {
      "text/plain": [
       "Comfort Before Class    33.0\n",
       "Comfort After Class     33.0\n",
       "dtype: float64"
      ]
     },
     "execution_count": 16,
     "metadata": {},
     "output_type": "execute_result"
    }
   ],
   "source": [
    "b4_aft_raw.sum()"
   ]
  },
  {
   "cell_type": "code",
   "execution_count": 17,
   "id": "666a240c-ff6a-45de-afb7-25d7180f0d74",
   "metadata": {
    "vscode": {
     "languageId": "shellscript"
    }
   },
   "outputs": [],
   "source": [
    "df['comfort_delta'] = (df['How comfortable were you with PEST++ before this class'] - \n",
    "                           df['How comfortable are you with PEST++ after this class'])"
   ]
  },
  {
   "cell_type": "code",
   "execution_count": 18,
   "id": "7f2cfff5-ef52-44fc-ad26-83d2d543a86e",
   "metadata": {
    "vscode": {
     "languageId": "shellscript"
    }
   },
   "outputs": [
    {
     "data": {
      "text/html": [
       "<div>\n",
       "<style scoped>\n",
       "    .dataframe tbody tr th:only-of-type {\n",
       "        vertical-align: middle;\n",
       "    }\n",
       "\n",
       "    .dataframe tbody tr th {\n",
       "        vertical-align: top;\n",
       "    }\n",
       "\n",
       "    .dataframe thead th {\n",
       "        text-align: right;\n",
       "    }\n",
       "</style>\n",
       "<table border=\"1\" class=\"dataframe\">\n",
       "  <thead>\n",
       "    <tr style=\"text-align: right;\">\n",
       "      <th></th>\n",
       "      <th>Timestamp</th>\n",
       "      <th>After this experience, would you prefer:</th>\n",
       "      <th>How much were you able to keep up with the self-study notebooks?</th>\n",
       "      <th>How comfortable were you with PEST++ before this class</th>\n",
       "      <th>How comfortable are you with PEST++ after this class</th>\n",
       "      <th>Please provide feedback that we can use to improve the GMDSI educational experience including the materials and the format and execution of this 5-week experience.</th>\n",
       "      <th>comfort_delta</th>\n",
       "    </tr>\n",
       "  </thead>\n",
       "  <tbody>\n",
       "    <tr>\n",
       "      <th>0</th>\n",
       "      <td>10/13/2023 8:29:39</td>\n",
       "      <td>this hybrid self-guided approach with few onli...</td>\n",
       "      <td>I did a bit but fell behind</td>\n",
       "      <td>3</td>\n",
       "      <td>2</td>\n",
       "      <td>NaN</td>\n",
       "      <td>1</td>\n",
       "    </tr>\n",
       "    <tr>\n",
       "      <th>1</th>\n",
       "      <td>10/13/2023 8:35:59</td>\n",
       "      <td>this hybrid self-guided approach with few onli...</td>\n",
       "      <td>I did a bit but fell behind</td>\n",
       "      <td>5</td>\n",
       "      <td>3</td>\n",
       "      <td>NaN</td>\n",
       "      <td>2</td>\n",
       "    </tr>\n",
       "    <tr>\n",
       "      <th>2</th>\n",
       "      <td>10/13/2023 8:46:13</td>\n",
       "      <td>in-person intensive workshop (one week - ~40 h...</td>\n",
       "      <td>I did most of them</td>\n",
       "      <td>3</td>\n",
       "      <td>2</td>\n",
       "      <td>NaN</td>\n",
       "      <td>1</td>\n",
       "    </tr>\n",
       "    <tr>\n",
       "      <th>3</th>\n",
       "      <td>10/13/2023 8:47:12</td>\n",
       "      <td>this hybrid self-guided approach with few onli...</td>\n",
       "      <td>I did them all</td>\n",
       "      <td>3</td>\n",
       "      <td>2</td>\n",
       "      <td>Specific to these workshops a bit more on pres...</td>\n",
       "      <td>1</td>\n",
       "    </tr>\n",
       "    <tr>\n",
       "      <th>4</th>\n",
       "      <td>10/13/2023 8:48:44</td>\n",
       "      <td>this hybrid self-guided approach with few onli...</td>\n",
       "      <td>I did them all</td>\n",
       "      <td>3</td>\n",
       "      <td>4</td>\n",
       "      <td>NaN</td>\n",
       "      <td>-1</td>\n",
       "    </tr>\n",
       "    <tr>\n",
       "      <th>5</th>\n",
       "      <td>10/13/2023 9:03:36</td>\n",
       "      <td>this hybrid self-guided approach with few onli...</td>\n",
       "      <td>I did most of them</td>\n",
       "      <td>3</td>\n",
       "      <td>2</td>\n",
       "      <td>NaN</td>\n",
       "      <td>1</td>\n",
       "    </tr>\n",
       "    <tr>\n",
       "      <th>6</th>\n",
       "      <td>10/13/2023 9:04:54</td>\n",
       "      <td>this hybrid self-guided approach with few onli...</td>\n",
       "      <td>I did a bit but fell behind</td>\n",
       "      <td>2</td>\n",
       "      <td>2</td>\n",
       "      <td>Subcutaneous administration</td>\n",
       "      <td>0</td>\n",
       "    </tr>\n",
       "    <tr>\n",
       "      <th>7</th>\n",
       "      <td>10/13/2023 9:07:06</td>\n",
       "      <td>this hybrid self-guided approach with few onli...</td>\n",
       "      <td>I did a bit but fell behind</td>\n",
       "      <td>1</td>\n",
       "      <td>3</td>\n",
       "      <td>That training was truly fantastic! A lot to di...</td>\n",
       "      <td>-2</td>\n",
       "    </tr>\n",
       "    <tr>\n",
       "      <th>8</th>\n",
       "      <td>10/13/2023 9:07:13</td>\n",
       "      <td>this hybrid self-guided approach with few onli...</td>\n",
       "      <td>I did most of them</td>\n",
       "      <td>4</td>\n",
       "      <td>2</td>\n",
       "      <td>A brief dive into how to set up an unstructure...</td>\n",
       "      <td>2</td>\n",
       "    </tr>\n",
       "    <tr>\n",
       "      <th>9</th>\n",
       "      <td>10/13/2023 9:13:46</td>\n",
       "      <td>this hybrid self-guided approach with few onli...</td>\n",
       "      <td>I did most of them</td>\n",
       "      <td>3</td>\n",
       "      <td>4</td>\n",
       "      <td>NaN</td>\n",
       "      <td>-1</td>\n",
       "    </tr>\n",
       "    <tr>\n",
       "      <th>10</th>\n",
       "      <td>10/13/2023 9:43:11</td>\n",
       "      <td>this hybrid self-guided approach with few onli...</td>\n",
       "      <td>I did most of them</td>\n",
       "      <td>2</td>\n",
       "      <td>3</td>\n",
       "      <td>This course illustrated where I want to get to...</td>\n",
       "      <td>-1</td>\n",
       "    </tr>\n",
       "    <tr>\n",
       "      <th>11</th>\n",
       "      <td>10/13/2023 9:48:02</td>\n",
       "      <td>in-person intensive workshop (one week - ~40 h...</td>\n",
       "      <td>I did them all</td>\n",
       "      <td>3</td>\n",
       "      <td>2</td>\n",
       "      <td>The \"hybrid\" approach was good. Better than an...</td>\n",
       "      <td>1</td>\n",
       "    </tr>\n",
       "    <tr>\n",
       "      <th>12</th>\n",
       "      <td>10/15/2023 21:45:02</td>\n",
       "      <td>this hybrid self-guided approach with few onli...</td>\n",
       "      <td>I did most of them</td>\n",
       "      <td>1</td>\n",
       "      <td>2</td>\n",
       "      <td>NaN</td>\n",
       "      <td>-1</td>\n",
       "    </tr>\n",
       "    <tr>\n",
       "      <th>13</th>\n",
       "      <td>10/17/2023 4:22:25</td>\n",
       "      <td>this hybrid self-guided approach with few onli...</td>\n",
       "      <td>I did a bit but fell behind</td>\n",
       "      <td>4</td>\n",
       "      <td>3</td>\n",
       "      <td>The sessions were awesome and the notebooks ar...</td>\n",
       "      <td>1</td>\n",
       "    </tr>\n",
       "    <tr>\n",
       "      <th>14</th>\n",
       "      <td>10/17/2023 4:29:41</td>\n",
       "      <td>this hybrid self-guided approach with few onli...</td>\n",
       "      <td>I did most of them</td>\n",
       "      <td>4</td>\n",
       "      <td>3</td>\n",
       "      <td>Would it make sense to do a webinar every 6ish...</td>\n",
       "      <td>1</td>\n",
       "    </tr>\n",
       "    <tr>\n",
       "      <th>15</th>\n",
       "      <td>10/19/2023 6:47:31</td>\n",
       "      <td>this hybrid self-guided approach with few onli...</td>\n",
       "      <td>I did most of them</td>\n",
       "      <td>3</td>\n",
       "      <td>4</td>\n",
       "      <td>More notebooks!</td>\n",
       "      <td>-1</td>\n",
       "    </tr>\n",
       "    <tr>\n",
       "      <th>16</th>\n",
       "      <td>10/20/2023 1:28:40</td>\n",
       "      <td>this hybrid self-guided approach with few onli...</td>\n",
       "      <td>I did a bit but fell behind</td>\n",
       "      <td>4</td>\n",
       "      <td>3</td>\n",
       "      <td>NaN</td>\n",
       "      <td>1</td>\n",
       "    </tr>\n",
       "    <tr>\n",
       "      <th>17</th>\n",
       "      <td>10/20/2023 1:33:36</td>\n",
       "      <td>this hybrid self-guided approach with few onli...</td>\n",
       "      <td>I did them all</td>\n",
       "      <td>4</td>\n",
       "      <td>4</td>\n",
       "      <td>In the very last class Mike explained two real...</td>\n",
       "      <td>0</td>\n",
       "    </tr>\n",
       "    <tr>\n",
       "      <th>18</th>\n",
       "      <td>10/20/2023 1:54:22</td>\n",
       "      <td>in-person intensive workshop (one week - ~40 h...</td>\n",
       "      <td>I did a bit but fell behind</td>\n",
       "      <td>4</td>\n",
       "      <td>4</td>\n",
       "      <td>I think you guys did a fantastic job with this...</td>\n",
       "      <td>0</td>\n",
       "    </tr>\n",
       "    <tr>\n",
       "      <th>19</th>\n",
       "      <td>10/20/2023 1:57:32</td>\n",
       "      <td>this hybrid self-guided approach with few onli...</td>\n",
       "      <td>I did a bit but fell behind</td>\n",
       "      <td>4</td>\n",
       "      <td>3</td>\n",
       "      <td>1. Overall, I really liked this class. It was ...</td>\n",
       "      <td>1</td>\n",
       "    </tr>\n",
       "    <tr>\n",
       "      <th>20</th>\n",
       "      <td>10/20/2023 2:17:11</td>\n",
       "      <td>this hybrid self-guided approach with few onli...</td>\n",
       "      <td>I did most of them</td>\n",
       "      <td>4</td>\n",
       "      <td>2</td>\n",
       "      <td>Thanks for creating this course! It was extrem...</td>\n",
       "      <td>2</td>\n",
       "    </tr>\n",
       "    <tr>\n",
       "      <th>21</th>\n",
       "      <td>10/20/2023 2:28:26</td>\n",
       "      <td>this hybrid self-guided approach with few onli...</td>\n",
       "      <td>I did most of them</td>\n",
       "      <td>3</td>\n",
       "      <td>2</td>\n",
       "      <td>Working with the Freyberg model is good for in...</td>\n",
       "      <td>1</td>\n",
       "    </tr>\n",
       "    <tr>\n",
       "      <th>22</th>\n",
       "      <td>10/20/2023 2:46:54</td>\n",
       "      <td>this hybrid self-guided approach with few onli...</td>\n",
       "      <td>I did them all</td>\n",
       "      <td>4</td>\n",
       "      <td>2</td>\n",
       "      <td>I thought this was a great class! The notebook...</td>\n",
       "      <td>2</td>\n",
       "    </tr>\n",
       "    <tr>\n",
       "      <th>23</th>\n",
       "      <td>10/20/2023 2:50:57</td>\n",
       "      <td>this hybrid self-guided approach with few onli...</td>\n",
       "      <td>I did a bit but fell behind</td>\n",
       "      <td>4</td>\n",
       "      <td>3</td>\n",
       "      <td>First of all, thanks for doing this!. It was v...</td>\n",
       "      <td>1</td>\n",
       "    </tr>\n",
       "    <tr>\n",
       "      <th>24</th>\n",
       "      <td>10/20/2023 3:32:56</td>\n",
       "      <td>this hybrid self-guided approach with few onli...</td>\n",
       "      <td>I did a bit but fell behind</td>\n",
       "      <td>3</td>\n",
       "      <td>4</td>\n",
       "      <td>This was an excellent format for such an inten...</td>\n",
       "      <td>-1</td>\n",
       "    </tr>\n",
       "    <tr>\n",
       "      <th>25</th>\n",
       "      <td>10/20/2023 4:48:51</td>\n",
       "      <td>this hybrid self-guided approach with few onli...</td>\n",
       "      <td>I did most of them</td>\n",
       "      <td>2</td>\n",
       "      <td>3</td>\n",
       "      <td>I am really grateful that Mike and Katie took ...</td>\n",
       "      <td>-1</td>\n",
       "    </tr>\n",
       "    <tr>\n",
       "      <th>26</th>\n",
       "      <td>10/20/2023 5:38:09</td>\n",
       "      <td>this hybrid self-guided approach with few onli...</td>\n",
       "      <td>I did them all</td>\n",
       "      <td>3</td>\n",
       "      <td>2</td>\n",
       "      <td>It was an extremely helpful process and the in...</td>\n",
       "      <td>1</td>\n",
       "    </tr>\n",
       "    <tr>\n",
       "      <th>27</th>\n",
       "      <td>10/20/2023 8:15:20</td>\n",
       "      <td>this hybrid self-guided approach with few onli...</td>\n",
       "      <td>I did most of them</td>\n",
       "      <td>4</td>\n",
       "      <td>4</td>\n",
       "      <td>NaN</td>\n",
       "      <td>0</td>\n",
       "    </tr>\n",
       "    <tr>\n",
       "      <th>28</th>\n",
       "      <td>10/20/2023 16:14:24</td>\n",
       "      <td>this hybrid self-guided approach with few onli...</td>\n",
       "      <td>I did a bit but fell behind</td>\n",
       "      <td>4</td>\n",
       "      <td>3</td>\n",
       "      <td>It was a great course, covering a huge amount ...</td>\n",
       "      <td>1</td>\n",
       "    </tr>\n",
       "    <tr>\n",
       "      <th>29</th>\n",
       "      <td>10/23/2023 22:04:29</td>\n",
       "      <td>this hybrid self-guided approach with few onli...</td>\n",
       "      <td>I did most of them</td>\n",
       "      <td>5</td>\n",
       "      <td>3</td>\n",
       "      <td>NaN</td>\n",
       "      <td>2</td>\n",
       "    </tr>\n",
       "    <tr>\n",
       "      <th>30</th>\n",
       "      <td>10/23/2023 22:36:49</td>\n",
       "      <td>this hybrid self-guided approach with few onli...</td>\n",
       "      <td>I did a bit but fell behind</td>\n",
       "      <td>4</td>\n",
       "      <td>3</td>\n",
       "      <td>I really enjoyed the experience. Nice teachers...</td>\n",
       "      <td>1</td>\n",
       "    </tr>\n",
       "    <tr>\n",
       "      <th>31</th>\n",
       "      <td>10/23/2023 22:47:56</td>\n",
       "      <td>this hybrid self-guided approach with few onli...</td>\n",
       "      <td>I did most of them</td>\n",
       "      <td>3</td>\n",
       "      <td>3</td>\n",
       "      <td>Hi,\\nThanks for all your effort and work. The ...</td>\n",
       "      <td>0</td>\n",
       "    </tr>\n",
       "    <tr>\n",
       "      <th>32</th>\n",
       "      <td>10/24/2023 8:38:21</td>\n",
       "      <td>in-person intensive workshop (one week - ~40 h...</td>\n",
       "      <td>I did a bit but fell behind</td>\n",
       "      <td>4</td>\n",
       "      <td>4</td>\n",
       "      <td>Enjoyed the class, but don't use Flopy (I mode...</td>\n",
       "      <td>0</td>\n",
       "    </tr>\n",
       "  </tbody>\n",
       "</table>\n",
       "</div>"
      ],
      "text/plain": [
       "              Timestamp           After this experience, would you prefer:  \\\n",
       "0    10/13/2023 8:29:39  this hybrid self-guided approach with few onli...   \n",
       "1    10/13/2023 8:35:59  this hybrid self-guided approach with few onli...   \n",
       "2    10/13/2023 8:46:13  in-person intensive workshop (one week - ~40 h...   \n",
       "3    10/13/2023 8:47:12  this hybrid self-guided approach with few onli...   \n",
       "4    10/13/2023 8:48:44  this hybrid self-guided approach with few onli...   \n",
       "5    10/13/2023 9:03:36  this hybrid self-guided approach with few onli...   \n",
       "6    10/13/2023 9:04:54  this hybrid self-guided approach with few onli...   \n",
       "7    10/13/2023 9:07:06  this hybrid self-guided approach with few onli...   \n",
       "8    10/13/2023 9:07:13  this hybrid self-guided approach with few onli...   \n",
       "9    10/13/2023 9:13:46  this hybrid self-guided approach with few onli...   \n",
       "10   10/13/2023 9:43:11  this hybrid self-guided approach with few onli...   \n",
       "11   10/13/2023 9:48:02  in-person intensive workshop (one week - ~40 h...   \n",
       "12  10/15/2023 21:45:02  this hybrid self-guided approach with few onli...   \n",
       "13   10/17/2023 4:22:25  this hybrid self-guided approach with few onli...   \n",
       "14   10/17/2023 4:29:41  this hybrid self-guided approach with few onli...   \n",
       "15   10/19/2023 6:47:31  this hybrid self-guided approach with few onli...   \n",
       "16   10/20/2023 1:28:40  this hybrid self-guided approach with few onli...   \n",
       "17   10/20/2023 1:33:36  this hybrid self-guided approach with few onli...   \n",
       "18   10/20/2023 1:54:22  in-person intensive workshop (one week - ~40 h...   \n",
       "19   10/20/2023 1:57:32  this hybrid self-guided approach with few onli...   \n",
       "20   10/20/2023 2:17:11  this hybrid self-guided approach with few onli...   \n",
       "21   10/20/2023 2:28:26  this hybrid self-guided approach with few onli...   \n",
       "22   10/20/2023 2:46:54  this hybrid self-guided approach with few onli...   \n",
       "23   10/20/2023 2:50:57  this hybrid self-guided approach with few onli...   \n",
       "24   10/20/2023 3:32:56  this hybrid self-guided approach with few onli...   \n",
       "25   10/20/2023 4:48:51  this hybrid self-guided approach with few onli...   \n",
       "26   10/20/2023 5:38:09  this hybrid self-guided approach with few onli...   \n",
       "27   10/20/2023 8:15:20  this hybrid self-guided approach with few onli...   \n",
       "28  10/20/2023 16:14:24  this hybrid self-guided approach with few onli...   \n",
       "29  10/23/2023 22:04:29  this hybrid self-guided approach with few onli...   \n",
       "30  10/23/2023 22:36:49  this hybrid self-guided approach with few onli...   \n",
       "31  10/23/2023 22:47:56  this hybrid self-guided approach with few onli...   \n",
       "32   10/24/2023 8:38:21  in-person intensive workshop (one week - ~40 h...   \n",
       "\n",
       "   How much were you able to keep up with the self-study notebooks?  \\\n",
       "0                         I did a bit but fell behind                 \n",
       "1                         I did a bit but fell behind                 \n",
       "2                                  I did most of them                 \n",
       "3                                      I did them all                 \n",
       "4                                      I did them all                 \n",
       "5                                  I did most of them                 \n",
       "6                         I did a bit but fell behind                 \n",
       "7                         I did a bit but fell behind                 \n",
       "8                                  I did most of them                 \n",
       "9                                  I did most of them                 \n",
       "10                                 I did most of them                 \n",
       "11                                     I did them all                 \n",
       "12                                 I did most of them                 \n",
       "13                        I did a bit but fell behind                 \n",
       "14                                 I did most of them                 \n",
       "15                                 I did most of them                 \n",
       "16                        I did a bit but fell behind                 \n",
       "17                                     I did them all                 \n",
       "18                        I did a bit but fell behind                 \n",
       "19                        I did a bit but fell behind                 \n",
       "20                                 I did most of them                 \n",
       "21                                 I did most of them                 \n",
       "22                                     I did them all                 \n",
       "23                        I did a bit but fell behind                 \n",
       "24                        I did a bit but fell behind                 \n",
       "25                                 I did most of them                 \n",
       "26                                     I did them all                 \n",
       "27                                 I did most of them                 \n",
       "28                        I did a bit but fell behind                 \n",
       "29                                 I did most of them                 \n",
       "30                        I did a bit but fell behind                 \n",
       "31                                 I did most of them                 \n",
       "32                        I did a bit but fell behind                 \n",
       "\n",
       "    How comfortable were you with PEST++ before this class  \\\n",
       "0                                                   3        \n",
       "1                                                   5        \n",
       "2                                                   3        \n",
       "3                                                   3        \n",
       "4                                                   3        \n",
       "5                                                   3        \n",
       "6                                                   2        \n",
       "7                                                   1        \n",
       "8                                                   4        \n",
       "9                                                   3        \n",
       "10                                                  2        \n",
       "11                                                  3        \n",
       "12                                                  1        \n",
       "13                                                  4        \n",
       "14                                                  4        \n",
       "15                                                  3        \n",
       "16                                                  4        \n",
       "17                                                  4        \n",
       "18                                                  4        \n",
       "19                                                  4        \n",
       "20                                                  4        \n",
       "21                                                  3        \n",
       "22                                                  4        \n",
       "23                                                  4        \n",
       "24                                                  3        \n",
       "25                                                  2        \n",
       "26                                                  3        \n",
       "27                                                  4        \n",
       "28                                                  4        \n",
       "29                                                  5        \n",
       "30                                                  4        \n",
       "31                                                  3        \n",
       "32                                                  4        \n",
       "\n",
       "    How comfortable are you with PEST++ after this class  \\\n",
       "0                                                   2      \n",
       "1                                                   3      \n",
       "2                                                   2      \n",
       "3                                                   2      \n",
       "4                                                   4      \n",
       "5                                                   2      \n",
       "6                                                   2      \n",
       "7                                                   3      \n",
       "8                                                   2      \n",
       "9                                                   4      \n",
       "10                                                  3      \n",
       "11                                                  2      \n",
       "12                                                  2      \n",
       "13                                                  3      \n",
       "14                                                  3      \n",
       "15                                                  4      \n",
       "16                                                  3      \n",
       "17                                                  4      \n",
       "18                                                  4      \n",
       "19                                                  3      \n",
       "20                                                  2      \n",
       "21                                                  2      \n",
       "22                                                  2      \n",
       "23                                                  3      \n",
       "24                                                  4      \n",
       "25                                                  3      \n",
       "26                                                  2      \n",
       "27                                                  4      \n",
       "28                                                  3      \n",
       "29                                                  3      \n",
       "30                                                  3      \n",
       "31                                                  3      \n",
       "32                                                  4      \n",
       "\n",
       "   Please provide feedback that we can use to improve the GMDSI educational experience including the materials and the format and execution of this 5-week experience.  \\\n",
       "0                                                 NaN                                                                                                                    \n",
       "1                                                 NaN                                                                                                                    \n",
       "2                                                 NaN                                                                                                                    \n",
       "3   Specific to these workshops a bit more on pres...                                                                                                                    \n",
       "4                                                 NaN                                                                                                                    \n",
       "5                                                 NaN                                                                                                                    \n",
       "6                         Subcutaneous administration                                                                                                                    \n",
       "7   That training was truly fantastic! A lot to di...                                                                                                                    \n",
       "8   A brief dive into how to set up an unstructure...                                                                                                                    \n",
       "9                                                 NaN                                                                                                                    \n",
       "10  This course illustrated where I want to get to...                                                                                                                    \n",
       "11  The \"hybrid\" approach was good. Better than an...                                                                                                                    \n",
       "12                                                NaN                                                                                                                    \n",
       "13  The sessions were awesome and the notebooks ar...                                                                                                                    \n",
       "14  Would it make sense to do a webinar every 6ish...                                                                                                                    \n",
       "15                                    More notebooks!                                                                                                                    \n",
       "16                                                NaN                                                                                                                    \n",
       "17  In the very last class Mike explained two real...                                                                                                                    \n",
       "18  I think you guys did a fantastic job with this...                                                                                                                    \n",
       "19  1. Overall, I really liked this class. It was ...                                                                                                                    \n",
       "20  Thanks for creating this course! It was extrem...                                                                                                                    \n",
       "21  Working with the Freyberg model is good for in...                                                                                                                    \n",
       "22  I thought this was a great class! The notebook...                                                                                                                    \n",
       "23  First of all, thanks for doing this!. It was v...                                                                                                                    \n",
       "24  This was an excellent format for such an inten...                                                                                                                    \n",
       "25  I am really grateful that Mike and Katie took ...                                                                                                                    \n",
       "26  It was an extremely helpful process and the in...                                                                                                                    \n",
       "27                                                NaN                                                                                                                    \n",
       "28  It was a great course, covering a huge amount ...                                                                                                                    \n",
       "29                                                NaN                                                                                                                    \n",
       "30  I really enjoyed the experience. Nice teachers...                                                                                                                    \n",
       "31  Hi,\\nThanks for all your effort and work. The ...                                                                                                                    \n",
       "32  Enjoyed the class, but don't use Flopy (I mode...                                                                                                                    \n",
       "\n",
       "    comfort_delta  \n",
       "0               1  \n",
       "1               2  \n",
       "2               1  \n",
       "3               1  \n",
       "4              -1  \n",
       "5               1  \n",
       "6               0  \n",
       "7              -2  \n",
       "8               2  \n",
       "9              -1  \n",
       "10             -1  \n",
       "11              1  \n",
       "12             -1  \n",
       "13              1  \n",
       "14              1  \n",
       "15             -1  \n",
       "16              1  \n",
       "17              0  \n",
       "18              0  \n",
       "19              1  \n",
       "20              2  \n",
       "21              1  \n",
       "22              2  \n",
       "23              1  \n",
       "24             -1  \n",
       "25             -1  \n",
       "26              1  \n",
       "27              0  \n",
       "28              1  \n",
       "29              2  \n",
       "30              1  \n",
       "31              0  \n",
       "32              0  "
      ]
     },
     "execution_count": 18,
     "metadata": {},
     "output_type": "execute_result"
    }
   ],
   "source": [
    "df"
   ]
  },
  {
   "cell_type": "code",
   "execution_count": 19,
   "id": "c8e27494-0440-45eb-86b9-fa05bd7de925",
   "metadata": {
    "vscode": {
     "languageId": "shellscript"
    }
   },
   "outputs": [],
   "source": [
    "betwor = df.groupby('comfort_delta').count()['Timestamp']\n",
    "betwor/=len(df)\n",
    "betwor*=100\n",
    "betwor.index = ['much\\nless','less','same','more','much\\nmore']"
   ]
  },
  {
   "cell_type": "code",
   "execution_count": 20,
   "id": "12a8bb77-fb0b-4f2c-96d5-7086acc5b591",
   "metadata": {
    "vscode": {
     "languageId": "shellscript"
    }
   },
   "outputs": [
    {
     "data": {
      "image/png": "[encoded data removed]",
      "text/plain": [
       "<Figure size 640x480 with 1 Axes>"
      ]
     },
     "metadata": {},
     "output_type": "display_data"
    }
   ],
   "source": [
    "with fps.USGSPlot():\n",
    "    \n",
    "    plt.pie(betwor,\n",
    "           labels=betwor.values)\n",
    "plt.show()"
   ]
  },
  {
   "cell_type": "code",
   "execution_count": 21,
   "id": "dff975a1-6ff1-40c9-ac17-caa5cf0a8734",
   "metadata": {
    "vscode": {
     "languageId": "shellscript"
    }
   },
   "outputs": [
    {
     "name": "stderr",
     "output_type": "stream",
     "text": [
      "/var/folders/gs/23hp3rd15qd6tyrfwt0r90qxz48f2r/T/ipykernel_99074/1516913487.py:20: UserWarning: FixedFormatter should only be used together with FixedLocator\n",
      "  ax['C'].set_yticklabels([f'{i._text}%' for i in ax['C'].get_yticklabels()])\n"
     ]
    },
    {
     "data": {
      "image/png": "[encoded data removed]",
      "text/plain": [
       "<Figure size 600x600 with 4 Axes>"
      ]
     },
     "metadata": {},
     "output_type": "display_data"
    }
   ],
   "source": [
    "n=len(df)\n",
    "with fps.USGSPlot():\n",
    "    fig, ax = plt.subplot_mosaic(\n",
    "        '''\n",
    "        .A.B\n",
    "        CCCC\n",
    "        D...\n",
    "        '''\n",
    "        , figsize=(6,6))\n",
    "    ax['B'].pie(nbs ,labels=[f'{i}: {j:.0f}%' for i,j in zip(nbs.index,nbs.values)])\n",
    "    fps.heading(letter='B',x=-.5,ax=ax['B'], heading=f'How much were you \\nable to keep up\\nwith the self-study notebooks? (n={n})')\n",
    "\n",
    "    ax['A'].pie(inperson ,labels=[f'{i}: {j:.0f}%' for i,j in zip(inperson.index,inperson.values)])\n",
    "    fps.heading(letter='A',x=-1.1,ax=ax['A'], heading=f'After this experience,\\nwould you prefer: (n={n})\\n')\n",
    "\n",
    "    b4_aft.plot.bar(ax=ax['C'])\n",
    "    fps.heading(letter='C',ax=ax['C'], \n",
    "                heading=f'How comfortable with PEST++ before/after this class? (n={n})')\n",
    "    ax['C'].set_ylim([0,60])\n",
    "    ax['C'].set_yticklabels([f'{i._text}%' for i in ax['C'].get_yticklabels()])\n",
    "    ax['C'].set_ylabel('Percent of Responses')\n",
    "    ax['C'].set_xlabel('Comfort Level (1 is highest, 5 is lowest)')\n",
    "    # ax[1].grid()\n",
    "    fps.heading(letter='D',ax=ax['D'], \n",
    "                heading=f'Change in comfort level with PEST++ before/after this class? (n={n})')\n",
    "    ax['D'].pie(betwor,\n",
    "           labels=[f'{i}: {j:.0f}%' for i,j in zip(betwor.index,betwor.values)])\n",
    "    plt.savefig('responses.png',dpi=450, bbox_inches='tight')\n",
    "plt.show()"
   ]
  },
  {
   "cell_type": "code",
   "execution_count": 22,
   "id": "d03539ae-1814-4b12-bb1e-47d258f81bb3",
   "metadata": {
    "vscode": {
     "languageId": "shellscript"
    }
   },
   "outputs": [
    {
     "data": {
      "text/plain": [
       "much\\nless     3.030303\n",
       "less          21.212121\n",
       "same          18.181818\n",
       "more          42.424242\n",
       "much\\nmore    15.151515\n",
       "Name: Timestamp, dtype: float64"
      ]
     },
     "execution_count": 22,
     "metadata": {},
     "output_type": "execute_result"
    }
   ],
   "source": [
    "betwor"
   ]
  },
  {
   "cell_type": "code",
   "execution_count": 23,
   "id": "7192daa9-e396-444e-ae6e-ffbbde7ef0ed",
   "metadata": {
    "vscode": {
     "languageId": "shellscript"
    }
   },
   "outputs": [
    {
     "name": "stdout",
     "output_type": "stream",
     "text": [
      "Specific to these workshops a bit more on presenting results and interpretation would have been great. Explicitly stating what conclusions can be made from the examples and what cannot. Linking things back to changes in input files is also a useful reminder to people of what the scripts are actually doing.\n",
      "Subcutaneous administration\n",
      "That training was truly fantastic! A lot to digest and unfortunatly not enough available time for me to digest it all. But with all the very well documented notebooks, I'll review it at my own pace and will integrate PEST++ in my routine workflow. Thanks heaps for organising the training.    \n",
      "A brief dive into how to set up an unstructured grid PEST++ IES even it if it just a \"here is the work-flow that could work\", even if it isn't structured notebooks would appreciated. \n",
      "This course illustrated where I want to get to/aspirational goals and was presented really well, the course was very well laid out and the notebooks are an incredibly helpful resource. However, I am still many steps behind and still using PEST (no ++ yet). So even though I could follow and learn a lot, some of the practical problems I am having with the projects I am working on probably relate to the first couple of weeks. \n",
      "The \"hybrid\" approach was good. Better than any other PEST course so far definitely. \n",
      "The sessions were awesome and the notebooks are great. I definitely let myself down in falling a bit behind in not always completing all of the \"homework\" notebooks and not trying to apply it to a problem of my own. I definitely feel much more comfortable with the concepts but still feel very fuzzy on actually applying this to a \"real\" problem. Very grateful for the recordings so I can revisit all this material and sit with it a bit more. I'm curious to how an intensive, all at once, live in the firehose, workshop would feel and if that would lead to more engagement and retention of material. I'm also looking forward to using the forum and think that's a great space.  Big thanks to everyone who worked on this course.\n",
      "Would it make sense to do a webinar every 6ish months sort of going over \"what's new\" in development of flopy/pyemu?  And then quick examples of how those new things can be used.\n",
      "More notebooks!\n",
      "In the very last class Mike explained two real-world modeling examples for management optimization. Providing more of these types of demonstrations in class, and explaining what \"practical\" difficulties arose in using PEST++ tools, and how these were overcome, would likely add more value. But the course itself, including the notebooks, were incredibly helpful. Thank you very much for putting together this course.\n",
      "I think you guys did a fantastic job with this. Unfortunately, I didn't have the willpower to make myself do all these notebooks outside of work hours as much as I would have liked. I think that I learn best when I'm forced to do something (such as getting put on a project using it where I HAVE to do it or else lose my job, lol).\n",
      "I think that an intensive in-person class would do the same thing for me. External motivation would definitely help ME, though others may have had an easier time with this format.\n",
      "As far as the content and structure of the notebooks: AMAZING. Truly great resource that I will draw from for as long as I do groundwater modeling.\n",
      "1. Overall, I really liked this class. It was super helpful, the instructors were great, and the notebooks were very informative.\n",
      "2. I'm a consultant, so given my workload, it was difficult to really digest and complete the notebooks in time for the next weekly meeting. My suggestion is to make this a 10-week experience, with meetings every two weeks. This would give attendees more time to dive into the notebooks and complete them\n",
      "3. A one week intensive workshop (similar to what John Doherty provides with PEST) would also be helpful and something I would attend. If this is every setup, I would recommend releasing the materials several months in advance of the workshop, so folks can go through the material prior to the class.\n",
      "4. A hybrid  self guided course or one week intensive workshop on PEST++ only would also be super helpful. \n",
      "\n",
      "Thanks for creating this course! It was extremely interesting and helpful. And a little mindblowing at times :)\n",
      "\n",
      "Feedback:\n",
      "1.) Plan for 1.5-hour sessions. It seems like we went about that long most weeks. I think most folks prefer to plan for 1.5-hours and then have a shorter session, than vis versa. There were a couple of weeks that I made it to other meetings late because I didn't want to drop off this call early.\n",
      "\n",
      "2.) I think the live coding was really instructive. Thanks for being brave enough to do it! Seeing all the little errors, corrections, and tweaks needed to get things to run as expected was helpful and one of my favorite parts.\n",
      "Working with the Freyberg model is good for instructional purposes, but I feel like it would be helpful to work with a real-life model.\n",
      "I thought this was a great class! The notebooks were EXTREMELY informative, and I liked having the class to bounce questions off the instructors and hear questions from other people in the class that I hadn't thought of. It'd be cool to incorporate an unstructured grid example...\n",
      "First of all, thanks for doing this!. It was very helpful in giving me the push to finally start seriously learning more of this.\n",
      "\n",
      "In my opinion, the notebooks presented here have a very specific workflow behind: MF6/Flopy+really large number of params+IES, what I think of as the \"even newer paradigm\". This is different from the normal workflow I use, the \"not so new anymore paradigm\":  PEST_HP + highly parameterized (<2000 param) + PLPROC + Pest Utilities + USG, where I face significant computational costs when building my JCO and the fact that USG it's not so friendly with outputs as MF6 is and the lack of real Flopy support for USG. \n",
      "\n",
      "Then one needs to decide if one to entirely switch to this new approach nor not, as there can be quite a lot of aspects to resolver first. In that sense, showing these tools being used in the \"not so new workflow\" can help people evaluate if switching completely is beneficial or not.\n",
      "\n",
      "For me the most effective way of learning it's to apply all the things shown here to my own problem and be forced to solve my specific needs. Learning needs time, but the pressure of a deadline really makes things brain to learn quickly!\n",
      "\n",
      "So, I guess this educational experience could be improved by somehow adding a \"work on your own thing at your own pace\" section and get some feedback from you guys along the way. This of course would require a a great commitment from the attendees, a longer timeframe and could probably a bit hard to implement due to confidentially issues (from our side) and also to avoid making this a consultancy project rather than learning a new approach experience.\n",
      "\n",
      "Something like this:\n",
      "  1) self-learning (see the notebooks as they are) - already done\n",
      "  2) guided-learning (someone explaining the notebooks) - already done\n",
      "  3) work on your own thing (discuss general approaches, and specific methods of pyemu, avoiding the actual site details)\n",
      "5 weeks for 1) and 2)\n",
      "10 weeks for 3) meeting three times (start, mid, end) / post questions.\n",
      "\n",
      "Another thought, you may ask to people to commit to develop and send you guys a new notebook applying what they have learn to a new context/problem of their choosing or maybe of your choosing. As way of helping development the knowledge GMDSI is providing... or something along those lines..\n",
      "\n",
      "Finally, for the next edition of this experience, I think I would spend more time on GitHub, explaining people how to use it. Especially because you suggested that all question/feedback should be submitted through that platform.\n",
      "\n",
      "Thanks again. \n",
      "Hopefully a second version of this can happen and I'll be able to participate.\n",
      "Cheers.\n",
      "This was an excellent format for such an intensive topic.  The mix of Katie and Mike was just right and provided a lot of information in a condensed time.  I doubt anyone could take more time for these sessions, so this high rate of information flow is unavoidable.  The recordings will be very valuable going forward as people work through the details, which will take time - months to years in my experience.  There were few questions, but each was valuable as Katie and Mike answered each very well.  This is like drinking from a firehose and it will take time for it to sink in (to use two metaphors in one sentence).  Keep up the good work and repeat as you have time.\n",
      "I am really grateful that Mike and Katie took out their precious time to go over the tutorial, it was a lot of content in the past 5 weeks, and I had to admit that I couldn't go through all the tutorials. However the discussion was very informative, and it improved my knowledge about PEST++. Wish we could have another session, maybe show the results from a real site, particularly about the optimizations. Thank you again for your time.\n",
      "It was an extremely helpful process and the in-person time really enhanced the notebooks. i had been through the previous iteration of notebooks and found these to be better documented and 'followable' and they are making more sense. I am still in a state such that I only really understand about 1/4 of what you are talking about each time, but usually after the 4th time watching it I am starting to feel like I get it.\n",
      "It was a great course, covering a huge amount of material. I didn't always have time to do more than click through the notebooks, falling a bit behind by the end. However, I really appreciated the opportunity to ask questions, as I ran in to all sorts of trouble trying to follow the notebooks but for a model I am working on. Many thanks again for the opportunity.\n",
      "I really enjoyed the experience. Nice teachers. Excellent shared workbooks. The classes helped me to better understand theoretical concepts about PEST and uncertainty analysis. However, because at the same time I need to work (I'm a senior modeler consultant), was very difficult to me to spend time in the workbooks. This is not a problem of the course, indeed. I'm just giving and idea of how my experience was, and I think could be something that happened to another people who is in the same position than me.\n",
      "I would be willing to pay to have more time to develop the workbooks and the chance to have personal meetings with the teachers, or may be with a reduced number of people, let's say 3 to 5. Also, I would suggest to include some kind of test or evaluations, may be in a presentation form. Obviously, I'm not meaning you will provide some kind \"title\" of \"degree\" after the course, but I think the evaluations would motivate a more interactive participation.\n",
      "Another suggestion: I think the course is not for people without any knowledge about PEST or uncertainty analysis. I had been working with this tools a couple of years and I feel the course was very useful to me since discussions allowed me to solve a number of doubts that I had. However, I think people without a previous knowledge felt a little bit lost with most of the topics we talked about in the meetings (I know a few).\n",
      "Thank you very much for the initiative and I hope you share more of this kind of courses in the future.\n",
      "Regards,\n",
      "José Miguel Espinoza\n",
      "Hi,\n",
      "Thanks for all your effort and work. The course was very solid and educational.\n",
      "A thing that I would like to see in the course is more practical examples of applications.\n",
      "Regards and good luck!\n",
      "Enjoyed the class, but don't use Flopy (I model pretty much entirely in MF-USG using custom Fortran/Python script and unstructured grids) so would have preferred instructionals re: file setup that could be applied to any model, rather than a row/column model built using Flopy. Really enjoyed the session on MOU and would like to learn more about this for my projects.\n"
     ]
    },
    {
     "data": {
      "text/plain": [
       "[None,\n",
       " None,\n",
       " None,\n",
       " None,\n",
       " None,\n",
       " None,\n",
       " None,\n",
       " None,\n",
       " None,\n",
       " None,\n",
       " None,\n",
       " None,\n",
       " None,\n",
       " None,\n",
       " None,\n",
       " None,\n",
       " None,\n",
       " None,\n",
       " None,\n",
       " None,\n",
       " None,\n",
       " None,\n",
       " None]"
      ]
     },
     "execution_count": 23,
     "metadata": {},
     "output_type": "execute_result"
    }
   ],
   "source": [
    "[print(i) for i in df.dropna(subset='Please provide feedback that we can use to improve the GMDSI educational experience including the materials and the format and execution of this 5-week experience.')[\n",
    "'Please provide feedback that we can use to improve the GMDSI educational experience including the materials and the format and execution of this 5-week experience.'\n",
    "]]"
   ]
  },
  {
   "cell_type": "code",
   "execution_count": null,
   "id": "3ef5d114-0a20-4e8d-a971-8f39441ad908",
   "metadata": {
    "vscode": {
     "languageId": "shellscript"
    }
   },
   "outputs": [],
   "source": []
  }
 ],
 "metadata": {
  "kernelspec": {
   "display_name": "gmdsitut",
   "language": "python",
   "name": "python3"
  },
  "language_info": {
   "codemirror_mode": {
    "name": "ipython",
    "version": 3
   },
   "file_extension": ".py",
   "mimetype": "text/x-python",
   "name": "python",
   "nbconvert_exporter": "python",
   "pygments_lexer": "ipython3",
   "version": "3.10.12"
  }
 },
 "nbformat": 4,
 "nbformat_minor": 5
}
